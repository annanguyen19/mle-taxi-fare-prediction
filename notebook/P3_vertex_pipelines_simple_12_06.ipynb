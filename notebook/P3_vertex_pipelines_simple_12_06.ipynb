{
 "cells": [
  {
   "cell_type": "markdown",
   "metadata": {
    "id": "pknVo1kM2wI2"
   },
   "source": [
    "##### Copyright 2021 The TensorFlow Authors."
   ]
  },
  {
   "cell_type": "code",
   "execution_count": null,
   "metadata": {
    "id": "SoFqANDE222Y"
   },
   "outputs": [],
   "source": [
    "#@title Licensed under the Apache License, Version 2.0 (the \"License\");\n",
    "# you may not use this file except in compliance with the License.\n",
    "# You may obtain a copy of the License at\n",
    "#\n",
    "# https://www.apache.org/licenses/LICENSE-2.0\n",
    "#\n",
    "# Unless required by applicable law or agreed to in writing, software\n",
    "# distributed under the License is distributed on an \"AS IS\" BASIS,\n",
    "# WITHOUT WARRANTIES OR CONDITIONS OF ANY KIND, either express or implied.\n",
    "# See the License for the specific language governing permissions and\n",
    "# limitations under the License."
   ]
  },
  {
   "cell_type": "markdown",
   "metadata": {
    "id": "6x1ypzczQCwy"
   },
   "source": [
    "# Simple TFX Pipeline for Vertex Pipelines\n"
   ]
  },
  {
   "cell_type": "markdown",
   "metadata": {
    "id": "_VuwrlnvQJ5k"
   },
   "source": [
    "This notebook-based tutorial will create a simple TFX pipeline and run it using\n",
    "Google Cloud Vertex Pipelines.  This notebook is based on the TFX pipeline\n",
    "built in\n",
    "[Simple TFX Pipeline Tutorial](https://www.tensorflow.org/tfx/tutorials/tfx/penguin_simple).\n",
    "\n",
    "Google Cloud Vertex Pipelines helps you to automate, monitor, and govern\n",
    "your ML systems by orchestrating your ML workflow in a serverless manner. You\n",
    "can define your ML pipelines using Python with TFX, and then execute your\n",
    "pipelines on Google Cloud. See\n",
    "[Vertex Pipelines introduction](https://cloud.google.com/vertex-ai/docs/pipelines/introduction)\n",
    "to learn more about Vertex Pipelines."
   ]
  },
  {
   "cell_type": "markdown",
   "metadata": {
    "id": "fwZ0aXisoBFW"
   },
   "source": [
    "## 1. Setup\n",
    "### Install python packages"
   ]
  },
  {
   "cell_type": "markdown",
   "metadata": {
    "id": "WC9W_S-bONgl"
   },
   "source": [
    "We will install required Python packages including TFX and KFP to author ML\n",
    "pipelines and submit jobs to Vertex Pipelines."
   ]
  },
  {
   "cell_type": "code",
   "execution_count": 1,
   "metadata": {
    "id": "iyQtljP-qPHY",
    "tags": []
   },
   "outputs": [
    {
     "name": "stdout",
     "output_type": "stream",
     "text": [
      "Requirement already satisfied: pyparsing==2.4.2 in /opt/conda/lib/python3.7/site-packages (2.4.2)\n"
     ]
    }
   ],
   "source": [
    "# Use the latest version of pip.\n",
    "!pip install -q --upgrade pip\n",
    "!pip install -q --upgrade \"tfx[kfp]<2\"\n",
    "!pip install pyparsing==2.4.2"
   ]
  },
  {
   "cell_type": "markdown",
   "metadata": {
    "id": "EwT0nov5QO1M"
   },
   "source": [
    "#### Restart the runtime\n",
    "\n",
    "Restart the runtime to ensure the following cells use the updated versions."
   ]
  },
  {
   "cell_type": "markdown",
   "metadata": {
    "id": "-CRyIL4LVDlQ"
   },
   "source": [
    "You can restart the runtime with following cell:"
   ]
  },
  {
   "cell_type": "code",
   "execution_count": 2,
   "metadata": {
    "id": "KHTSzMygoBF6"
   },
   "outputs": [],
   "source": [
    "# docs_infra: no_execute\n",
    "import sys\n",
    "import IPython"
   ]
  },
  {
   "cell_type": "markdown",
   "metadata": {
    "id": "3_SveIKxaENu"
   },
   "source": [
    "Check the package versions."
   ]
  },
  {
   "cell_type": "code",
   "execution_count": 3,
   "metadata": {
    "id": "Xd-iP9wEaENu",
    "tags": []
   },
   "outputs": [
    {
     "name": "stdout",
     "output_type": "stream",
     "text": [
      "TensorFlow version: 2.8.2\n",
      "TFX version: 1.8.0\n",
      "KFP version: 1.8.12\n"
     ]
    }
   ],
   "source": [
    "import tensorflow as tf\n",
    "print('TensorFlow version: {}'.format(tf.__version__))\n",
    "from tfx import v1 as tfx\n",
    "print('TFX version: {}'.format(tfx.__version__))\n",
    "import kfp\n",
    "print('KFP version: {}'.format(kfp.__version__))"
   ]
  },
  {
   "cell_type": "markdown",
   "metadata": {
    "id": "aDtLdSkvqPHe"
   },
   "source": [
    "### Set up variables\n",
    "\n",
    "We will set up some variables used to customize the pipelines below. Following\n",
    "information is required:\n",
    "\n",
    "* GCP Project id. You can find your Project ID in the panel with your lab instructions.\n",
    "* GCP Region to run pipelines. For more information about the regions that\n",
    "Vertex Pipelines is available in, see the\n",
    "[Vertex AI locations guide](https://cloud.google.com/vertex-ai/docs/general/locations#feature-availability).\n",
    "* Google Cloud Storage Bucket to store pipeline outputs.\n",
    "\n",
    "**Enter required values in the cell below before running it**.\n"
   ]
  },
  {
   "cell_type": "code",
   "execution_count": 9,
   "metadata": {
    "id": "EcUseqJaE2XN",
    "tags": []
   },
   "outputs": [],
   "source": [
    "GOOGLE_CLOUD_PROJECT = 'mle-project-linhvu2695001'     # <--- ENTER THIS\n",
    "GOOGLE_CLOUD_REGION = 'us-central1'     \n",
    "# GCS_BUCKET_NAME = GOOGLE_CLOUD_PROJECT + '-gcs'\n",
    "GCS_BUCKET_NAME = GOOGLE_CLOUD_PROJECT\n",
    "\n",
    "if not (GOOGLE_CLOUD_PROJECT and GOOGLE_CLOUD_REGION and GCS_BUCKET_NAME):\n",
    "    from absl import logging\n",
    "    logging.error('Please set all required parameters.')"
   ]
  },
  {
   "cell_type": "markdown",
   "metadata": {
    "id": "GAaCPLjgiJrO"
   },
   "source": [
    "Set `gcloud` to use your project."
   ]
  },
  {
   "cell_type": "code",
   "execution_count": 10,
   "metadata": {
    "id": "VkWdxe4TXRHk",
    "tags": []
   },
   "outputs": [
    {
     "name": "stdout",
     "output_type": "stream",
     "text": [
      "Updated property [core/project].\n"
     ]
    }
   ],
   "source": [
    "!gcloud config set project {GOOGLE_CLOUD_PROJECT}"
   ]
  },
  {
   "cell_type": "code",
   "execution_count": 11,
   "metadata": {
    "id": "CPN6UL5CazNy",
    "tags": []
   },
   "outputs": [
    {
     "name": "stdout",
     "output_type": "stream",
     "text": [
      "gs://mle-project-linhvu2695001/pipeline_root/chicago-vertex-pipelines\n",
      "gs://mle-project-linhvu2695001/pipeline_module/chicago-vertex-pipelines\n",
      "gs://mle-project-linhvu2695001/data/chicago-vertex-pipelines\n",
      "prediction-chicago-vertex-pipelines\n",
      "gs://mle-project-linhvu2695001/serving_model/chicago-vertex-pipelines\n"
     ]
    }
   ],
   "source": [
    "PIPELINE_NAME = 'chicago-vertex-pipelines'\n",
    "\n",
    "# Path to various pipeline artifact.\n",
    "PIPELINE_ROOT = 'gs://{}/pipeline_root/{}'.format(\n",
    "    GCS_BUCKET_NAME, PIPELINE_NAME)\n",
    "print(PIPELINE_ROOT)\n",
    "\n",
    "# Paths for users' Python module.\n",
    "MODULE_ROOT = 'gs://{}/pipeline_module/{}'.format(\n",
    "    GCS_BUCKET_NAME, PIPELINE_NAME)\n",
    "print(MODULE_ROOT)\n",
    "\n",
    "# Paths for input data.\n",
    "DATA_ROOT = 'gs://{}/data/{}'.format(GCS_BUCKET_NAME, PIPELINE_NAME)\n",
    "print(DATA_ROOT)\n",
    "\n",
    "# Name of Vertex AI Endpoint.\n",
    "ENDPOINT_NAME = 'prediction-' + PIPELINE_NAME\n",
    "print(ENDPOINT_NAME)\n",
    "\n",
    "# This is the path where your model will be pushed for serving.\n",
    "SERVING_MODEL_DIR = 'gs://{}/serving_model/{}'.format(\n",
    "    GCS_BUCKET_NAME, PIPELINE_NAME)\n",
    "print(SERVING_MODEL_DIR)\n",
    "\n",
    "# print('PIPELINE_ROOT: {}'.format(PIPELINE_ROOT))"
   ]
  },
  {
   "cell_type": "markdown",
   "metadata": {
    "id": "nH6gizcpSwWV"
   },
   "source": [
    "## 2. Create a pipeline\n",
    "\n",
    "TFX pipelines are defined using Python APIs. We will define a pipeline which\n",
    "consists of three components:\n",
    "\n",
    "* CsvExampleGen: Reads in data files and convert them to TFX internal format for further processing. There are multiple ExampleGens for various formats. In this tutorial, we will use CsvExampleGen which takes CSV file input.\n",
    "* Trainer: Trains an ML model. Trainer component requires a model definition code from users. You can use TensorFlow APIs to specify how to train a model and save it in a _savedmodel format.\n",
    "* Pusher: Copies the trained model outside of the TFX pipeline. Pusher component can be thought of an deployment process of the trained ML model.\n",
    "\n",
    "Our pipeline will be almost identical to a basic [TFX pipeline](https://www.tensorflow.org/tfx/tutorials/tfx/penguin_simple).\n",
    "\n",
    "The only difference is that we don't need to set `metadata_connection_config`\n",
    "which is used to locate\n",
    "[ML Metadata](https://www.tensorflow.org/tfx/guide/mlmd) database. Because\n",
    "Vertex Pipelines uses a managed metadata service, users don't need to care\n",
    "of it, and we don't need to specify the parameter.\n",
    "\n",
    "Before actually define the pipeline, we need to write a model code for the\n",
    "Trainer component first."
   ]
  },
  {
   "cell_type": "markdown",
   "metadata": {
    "id": "lOjDv93eS5xV"
   },
   "source": [
    "### Write model code.\n",
    "\n",
    "We will create a simple DNN model for classification using TensorFlow Keras API. This model training code will be saved to a separate file.\n",
    "\n",
    "In this tutorial we will use __Generic Trainer__ of TFX which support Keras-based models. You need to write a Python file containing run_fn function, which is the entrypoint for the `Trainer` component."
   ]
  },
  {
   "cell_type": "code",
   "execution_count": 12,
   "metadata": {
    "id": "aES7Hv5QTDK3",
    "tags": []
   },
   "outputs": [],
   "source": [
    "_trainer_module_file = 'trainer.py'"
   ]
  },
  {
   "cell_type": "code",
   "execution_count": 13,
   "metadata": {
    "id": "Gnc67uQNTDfW",
    "tags": []
   },
   "outputs": [
    {
     "name": "stdout",
     "output_type": "stream",
     "text": [
      "Overwriting trainer.py\n"
     ]
    }
   ],
   "source": [
    "%%writefile {_trainer_module_file}\n",
    "\n",
    "# Copied from https://www.tensorflow.org/tfx/tutorials/tfx/penguin_simple\n",
    "\n",
    "from typing import List\n",
    "from absl import logging\n",
    "import tensorflow as tf\n",
    "from tensorflow import keras\n",
    "from tensorflow_transform.tf_metadata import schema_utils\n",
    "\n",
    "\n",
    "from tfx import v1 as tfx\n",
    "from tfx_bsl.public import tfxio\n",
    "\n",
    "from tensorflow_metadata.proto.v0 import schema_pb2\n",
    "\n",
    "# _FEATURE_KEYS = [\n",
    "#     'culmen_length_mm', 'culmen_depth_mm', 'flipper_length_mm', 'body_mass_g'\n",
    "# ]\n",
    "# _LABEL_KEY = 'species'\n",
    "\n",
    "\n",
    "_FEATURE_KEYS = [\n",
    "    'pickup_latitude', 'pickup_longitude', 'dropoff_latitude', 'dropoff_longitude', 'euclidean'\n",
    "]\n",
    "_LABEL_KEY = 'trip_total'\n",
    "\n",
    "\n",
    "_TRAIN_BATCH_SIZE = 40\n",
    "_EVAL_BATCH_SIZE = 20\n",
    "\n",
    "# Since we're not generating or creating a schema, we will instead create\n",
    "# a feature spec.  Since there are a fairly small number of features this is\n",
    "# manageable for this dataset.\n",
    "# _FEATURE_SPEC = {\n",
    "#     **{\n",
    "#         feature: tf.io.FixedLenFeature(shape=[1], dtype=tf.float32)\n",
    "#            for feature in _FEATURE_KEYS\n",
    "#        },\n",
    "#     _LABEL_KEY: tf.io.FixedLenFeature(shape=[1], dtype=tf.int64)\n",
    "# }\n",
    "\n",
    "_FEATURE_SPEC = {\n",
    "    **{\n",
    "        feature: tf.io.FixedLenFeature(shape=[1], dtype=tf.float32)\n",
    "           for feature in _FEATURE_KEYS\n",
    "       },\n",
    "    _LABEL_KEY: tf.io.FixedLenFeature(shape=[1], dtype=tf.float32)\n",
    "}\n",
    "\n",
    "\n",
    "def _input_fn(file_pattern: List[str],\n",
    "              data_accessor: tfx.components.DataAccessor,\n",
    "              schema: schema_pb2.Schema,\n",
    "              batch_size: int) -> tf.data.Dataset:\n",
    "  \"\"\"Generates features and label for training.\n",
    "\n",
    "  Args:\n",
    "    file_pattern: List of paths or patterns of input tfrecord files.\n",
    "    data_accessor: DataAccessor for converting input to RecordBatch.\n",
    "    schema: schema of the input data.\n",
    "    batch_size: representing the number of consecutive elements of returned\n",
    "      dataset to combine in a single batch\n",
    "\n",
    "  Returns:\n",
    "    A dataset that contains (features, indices) tuple where features is a\n",
    "      dictionary of Tensors, and indices is a single Tensor of label indices.\n",
    "  \"\"\"\n",
    "  return data_accessor.tf_dataset_factory(\n",
    "      file_pattern,\n",
    "      tfxio.TensorFlowDatasetOptions(\n",
    "          batch_size=batch_size, label_key=_LABEL_KEY),\n",
    "      schema=schema).repeat()\n",
    "\n",
    "\n",
    "def _make_keras_model() -> tf.keras.Model:\n",
    "  \"\"\"Creates a DNN Keras model for classifying penguin data.\n",
    "\n",
    "  Returns:\n",
    "    A Keras Model.\n",
    "  \"\"\"\n",
    "  # The model below is built with Functional API, please refer to\n",
    "  # https://www.tensorflow.org/guide/keras/overview for all API options.\n",
    "  inputs = [keras.layers.Input(shape=(1,), name=f) for f in _FEATURE_KEYS]\n",
    "  d = keras.layers.concatenate(inputs)\n",
    "  for _ in range(2):\n",
    "    # d = keras.layers.Dense(8, activation='relu')(d)\n",
    "    d = keras.layers.Dense(64, activation='relu')(d)\n",
    "    d = keras.layers.Dense(32, activation='relu')(d)\n",
    "    d = keras.layers.Dense(16, activation='relu')(d)\n",
    "  # outputs = keras.layers.Dense(3)(d)\n",
    "    outputs = keras.layers.Dense(1, activation='linear')(d)\n",
    "\n",
    "  model = keras.Model(inputs=inputs, outputs=outputs)\n",
    "\n",
    "  # model.compile(\n",
    "  #     optimizer=keras.optimizers.Adam(1e-2),\n",
    "  #     loss=tf.keras.losses.SparseCategoricalCrossentropy(from_logits=True),\n",
    "  #     metrics=[keras.metrics.SparseCategoricalAccuracy()])\n",
    "    \n",
    "  model.compile(\n",
    "      optimizer=keras.optimizers.Adam(0.00001),\n",
    "      loss=tf.keras.losses.MeanSquaredError(),\n",
    "      metrics=[keras.metrics.MeanSquaredError(),keras.metrics.MeanAbsoluteError()])\n",
    "\n",
    "  model.summary(print_fn=logging.info)\n",
    "  return model\n",
    "\n",
    "# NEW: Read `use_gpu` from the custom_config of the Trainer.\n",
    "#      if it uses GPU, enable MirroredStrategy.\n",
    "def _get_distribution_strategy(fn_args: tfx.components.FnArgs):\n",
    "  if fn_args.custom_config.get('use_gpu', False):\n",
    "    logging.info('Using MirroredStrategy with one GPU.')\n",
    "    return tf.distribute.MirroredStrategy(devices=['device:GPU:0'])\n",
    "  return None\n",
    "\n",
    "# TFX Trainer will call this function.\n",
    "def run_fn(fn_args: tfx.components.FnArgs):\n",
    "  \"\"\"Train the model based on given args.\n",
    "\n",
    "  Args:\n",
    "    fn_args: Holds args used to train the model as name/value pairs.\n",
    "  \"\"\"\n",
    "\n",
    "  # This schema is usually either an output of SchemaGen or a manually-curated\n",
    "  # version provided by pipeline author. A schema can also derived from TFT\n",
    "  # graph if a Transform component is used. In the case when either is missing,\n",
    "  # `schema_from_feature_spec` could be used to generate schema from very simple\n",
    "  # feature_spec, but the schema returned would be very primitive.\n",
    "  print('YAHOOOOOOOOOOOOOO')\n",
    "  schema = schema_utils.schema_from_feature_spec(_FEATURE_SPEC)\n",
    "    \n",
    "  train_dataset = _input_fn(\n",
    "      fn_args.train_files,\n",
    "      fn_args.data_accessor,\n",
    "      schema,\n",
    "      batch_size=_TRAIN_BATCH_SIZE)\n",
    "\n",
    "  eval_dataset = _input_fn(\n",
    "      fn_args.eval_files,\n",
    "      fn_args.data_accessor,\n",
    "      schema,\n",
    "      batch_size=_EVAL_BATCH_SIZE)\n",
    "    \n",
    "  # NEW: If we have a distribution strategy, build a model in a strategy scope.\n",
    "  strategy = _get_distribution_strategy(fn_args)\n",
    "  if strategy is None:\n",
    "    model = _make_keras_model()\n",
    "  else:\n",
    "    with strategy.scope():\n",
    "      model = _make_keras_model()\n",
    "\n",
    "  tensorboard_callback = tf.keras.callbacks.TensorBoard(log_dir=fn_args.model_run_dir, update_freq='batch')\n",
    "    \n",
    "  model.fit(\n",
    "      train_dataset,\n",
    "      epochs = 50,\n",
    "      steps_per_epoch=fn_args.train_steps,\n",
    "      validation_data=eval_dataset,\n",
    "      validation_steps=fn_args.eval_steps,\n",
    "      callbacks=[tensorboard_callback])\n",
    "\n",
    "  # The result of the training should be saved in `fn_args.serving_model_dir`\n",
    "  # directory.\n",
    "  model.save(fn_args.serving_model_dir, save_format='tf')"
   ]
  },
  {
   "cell_type": "markdown",
   "metadata": {
    "id": "-LsYx8MpYvPv"
   },
   "source": [
    "Copy the module file to GCS which can be accessed from the pipeline components.\n",
    "Because model training happens on GCP, we need to upload this model definition. \n",
    "\n",
    "Otherwise, you might want to build a container image including the module file\n",
    "and use the image to run the pipeline."
   ]
  },
  {
   "cell_type": "code",
   "execution_count": 14,
   "metadata": {
    "id": "rMMs5wuNYAbc",
    "tags": []
   },
   "outputs": [
    {
     "name": "stdout",
     "output_type": "stream",
     "text": [
      "Copying file://trainer.py [Content-Type=text/x-python]...\n",
      "/ [1 files][  5.4 KiB/  5.4 KiB]                                                \n",
      "Operation completed over 1 objects/5.4 KiB.                                      \n"
     ]
    }
   ],
   "source": [
    "!gsutil cp {_trainer_module_file} {MODULE_ROOT}/"
   ]
  },
  {
   "cell_type": "markdown",
   "metadata": {
    "id": "w3OkNz3gTLwM"
   },
   "source": [
    "### Write a pipeline definition\n",
    "\n",
    "We will define a function to create a TFX pipeline."
   ]
  },
  {
   "cell_type": "code",
   "execution_count": 15,
   "metadata": {
    "id": "M49yYVNBTPd4",
    "tags": []
   },
   "outputs": [],
   "source": [
    "# Copied from https://www.tensorflow.org/tfx/tutorials/tfx/penguin_simple and\n",
    "# slightly modified because we don't need `metadata_path` argument.\n",
    "\n",
    "def _create_pipeline(pipeline_name: str, pipeline_root: str, data_root: str,\n",
    "                     module_file: str, serving_model_dir: str, endpoint_name: str, project_id: str, region: str, use_gpu: bool\n",
    "                     ) -> tfx.dsl.Pipeline:\n",
    "    \n",
    "  # NEW: Configuration for Vertex AI Training.\n",
    "  # This dictionary will be passed as `CustomJobSpec`.\n",
    "  vertex_job_spec = {\n",
    "      'project': project_id,\n",
    "      'worker_pool_specs': [{\n",
    "          'machine_spec': {\n",
    "              'machine_type': 'n1-standard-4',\n",
    "          },\n",
    "          'replica_count': 1,\n",
    "          'container_spec': {\n",
    "              'image_uri': 'gcr.io/tfx-oss-public/tfx:{}'.format(tfx.__version__),\n",
    "          },\n",
    "      }],\n",
    "  }\n",
    "\n",
    "  if use_gpu:\n",
    "    # See https://cloud.google.com/vertex-ai/docs/reference/rest/v1/MachineSpec#acceleratortype\n",
    "    # for available machine types.\n",
    "    vertex_job_spec['worker_pool_specs'][0]['machine_spec'].update({\n",
    "        'accelerator_type': 'NVIDIA_TESLA_K80',\n",
    "        'accelerator_count': 1\n",
    "    })\n",
    "\n",
    "    \n",
    "  \"\"\"Creates a five pipeline with TFX.\"\"\"\n",
    "  # Brings data into the pipeline.\n",
    "  example_gen = tfx.components.CsvExampleGen(input_base=data_root)\n",
    "\n",
    "  statistics_gen = tfx.components.StatisticsGen(examples=example_gen.outputs['examples'])\n",
    "\n",
    "  schema_gen = tfx.components.SchemaGen(statistics=statistics_gen.outputs['statistics'],infer_feature_shape=False)\n",
    "\n",
    "  example_validator = tfx.components.ExampleValidator(statistics=statistics_gen.outputs['statistics'],schema=schema_gen.outputs['schema'])\n",
    "\n",
    "  # Trains a model using Vertex AI Training.\n",
    "  # NEW: We need to specify a Trainer for GCP with related configs.\n",
    "  trainer = tfx.extensions.google_cloud_ai_platform.Trainer(\n",
    "      module_file=module_file,\n",
    "      examples=example_gen.outputs['examples'],\n",
    "      train_args=tfx.proto.TrainArgs(num_steps=1500), #100\n",
    "      eval_args=tfx.proto.EvalArgs(num_steps=1500), #5\n",
    "      custom_config={\n",
    "          tfx.extensions.google_cloud_ai_platform.ENABLE_VERTEX_KEY:\n",
    "              True,\n",
    "          tfx.extensions.google_cloud_ai_platform.VERTEX_REGION_KEY:\n",
    "              region,\n",
    "          tfx.extensions.google_cloud_ai_platform.TRAINING_ARGS_KEY:\n",
    "              vertex_job_spec,\n",
    "          'use_gpu':\n",
    "              use_gpu,\n",
    "      })\n",
    "\n",
    "    \n",
    "  # # Uses user-provided Python function that trains a model.\n",
    "  # trainer = tfx.components.Trainer(\n",
    "  #     module_file=module_file,\n",
    "  #     examples=example_gen.outputs['examples'],\n",
    "  #     train_args=tfx.proto.TrainArgs(num_steps=1500), #100\n",
    "  #     eval_args=tfx.proto.EvalArgs(num_steps=1500)) #5\n",
    "    \n",
    "  # NEW: Configuration for pusher.\n",
    "  vertex_serving_spec = {\n",
    "      'project_id': project_id,\n",
    "      'endpoint_name': endpoint_name,\n",
    "      # Remaining argument is passed to aiplatform.Model.deploy()\n",
    "      # See https://cloud.google.com/vertex-ai/docs/predictions/deploy-model-api#deploy_the_model\n",
    "      # for the detail.\n",
    "      #\n",
    "      # Machine type is the compute resource to serve prediction requests.\n",
    "      # See https://cloud.google.com/vertex-ai/docs/predictions/configure-compute#machine-types\n",
    "      # for available machine types and acccerators.\n",
    "      'machine_type': 'n1-standard-4',\n",
    "  }\n",
    "    \n",
    "  # Vertex AI provides pre-built containers with various configurations for\n",
    "  # serving.\n",
    "  # See https://cloud.google.com/vertex-ai/docs/predictions/pre-built-containers\n",
    "  # for available container images.\n",
    "  serving_image = 'us-docker.pkg.dev/vertex-ai/prediction/tf2-cpu.2-6:latest'\n",
    "  if use_gpu:\n",
    "    vertex_serving_spec.update({\n",
    "        'accelerator_type': 'NVIDIA_TESLA_K80',\n",
    "        'accelerator_count': 1\n",
    "    })\n",
    "    serving_image = 'us-docker.pkg.dev/vertex-ai/prediction/tf2-gpu.2-6:latest'\n",
    "    \n",
    "  # NEW: Pushes the model to Vertex AI.\n",
    "  pusher = tfx.extensions.google_cloud_ai_platform.Pusher(\n",
    "      model=trainer.outputs['model'],\n",
    "      custom_config={\n",
    "          tfx.extensions.google_cloud_ai_platform.ENABLE_VERTEX_KEY:\n",
    "              True,\n",
    "          tfx.extensions.google_cloud_ai_platform.VERTEX_REGION_KEY:\n",
    "              region,\n",
    "          tfx.extensions.google_cloud_ai_platform.VERTEX_CONTAINER_IMAGE_URI_KEY:\n",
    "              serving_image,\n",
    "          tfx.extensions.google_cloud_ai_platform.SERVING_ARGS_KEY:\n",
    "            vertex_serving_spec,\n",
    "      })\n",
    "\n",
    "  # # Pushes the model to a filesystem destination.\n",
    "  # pusher = tfx.components.Pusher(\n",
    "  #     model=trainer.outputs['model'],\n",
    "  #     push_destination=tfx.proto.PushDestination(\n",
    "  #         filesystem=tfx.proto.PushDestination.Filesystem(\n",
    "  #             base_directory=serving_model_dir)))\n",
    "\n",
    "  # Following three components will be included in the pipeline.\n",
    "  components = [\n",
    "      example_gen,\n",
    "      statistics_gen,\n",
    "      schema_gen,\n",
    "      example_validator,\n",
    "      trainer,\n",
    "      pusher,\n",
    "  ]\n",
    "\n",
    "  return tfx.dsl.Pipeline(\n",
    "      pipeline_name=pipeline_name,\n",
    "      pipeline_root=pipeline_root,\n",
    "      components=components,\n",
    "      enable_cache=True)"
   ]
  },
  {
   "cell_type": "markdown",
   "metadata": {
    "id": "mJbq07THU2GV"
   },
   "source": [
    "## 3. Run the pipeline on Vertex Pipelines.\n",
    "\n",
    "TFX provides multiple orchestrators to run your pipeline. In this tutorial we\n",
    "will use the Vertex Pipelines together with the Kubeflow V2 dag runner."
   ]
  },
  {
   "cell_type": "markdown",
   "metadata": {
    "id": "7mp0AkmrPdUb"
   },
   "source": [
    "We need to define a runner to actually run the pipeline. You will compile\n",
    "your pipeline into our pipeline definition format using TFX APIs."
   ]
  },
  {
   "cell_type": "code",
   "execution_count": 16,
   "metadata": {
    "id": "fAtfOZTYWJu-",
    "tags": []
   },
   "outputs": [
    {
     "name": "stdout",
     "output_type": "stream",
     "text": [
      "running bdist_wheel\n",
      "running build\n",
      "running build_py\n",
      "creating build\n",
      "creating build/lib\n",
      "copying trainer.py -> build/lib\n",
      "installing to /tmp/tmp9t3t6qiw\n",
      "running install\n",
      "running install_lib\n",
      "copying build/lib/trainer.py -> /tmp/tmp9t3t6qiw\n",
      "running install_egg_info\n",
      "running egg_info\n",
      "creating tfx_user_code_Trainer.egg-info\n",
      "writing tfx_user_code_Trainer.egg-info/PKG-INFO\n",
      "writing dependency_links to tfx_user_code_Trainer.egg-info/dependency_links.txt\n",
      "writing top-level names to tfx_user_code_Trainer.egg-info/top_level.txt\n",
      "writing manifest file 'tfx_user_code_Trainer.egg-info/SOURCES.txt'\n",
      "reading manifest file 'tfx_user_code_Trainer.egg-info/SOURCES.txt'\n",
      "writing manifest file 'tfx_user_code_Trainer.egg-info/SOURCES.txt'\n",
      "Copying tfx_user_code_Trainer.egg-info to /tmp/tmp9t3t6qiw/tfx_user_code_Trainer-0.0+0964cf9fe67cc675064d17ea2d991539cfdb762c58e2a65a5148a7edd5c3a1eb-py3.7.egg-info\n",
      "running install_scripts\n",
      "creating /tmp/tmp9t3t6qiw/tfx_user_code_Trainer-0.0+0964cf9fe67cc675064d17ea2d991539cfdb762c58e2a65a5148a7edd5c3a1eb.dist-info/WHEEL\n",
      "creating '/tmp/tmpgtsog7wf/tfx_user_code_Trainer-0.0+0964cf9fe67cc675064d17ea2d991539cfdb762c58e2a65a5148a7edd5c3a1eb-py3-none-any.whl' and adding '/tmp/tmp9t3t6qiw' to it\n",
      "adding 'trainer.py'\n",
      "adding 'tfx_user_code_Trainer-0.0+0964cf9fe67cc675064d17ea2d991539cfdb762c58e2a65a5148a7edd5c3a1eb.dist-info/METADATA'\n",
      "adding 'tfx_user_code_Trainer-0.0+0964cf9fe67cc675064d17ea2d991539cfdb762c58e2a65a5148a7edd5c3a1eb.dist-info/WHEEL'\n",
      "adding 'tfx_user_code_Trainer-0.0+0964cf9fe67cc675064d17ea2d991539cfdb762c58e2a65a5148a7edd5c3a1eb.dist-info/top_level.txt'\n",
      "adding 'tfx_user_code_Trainer-0.0+0964cf9fe67cc675064d17ea2d991539cfdb762c58e2a65a5148a7edd5c3a1eb.dist-info/RECORD'\n",
      "removing /tmp/tmp9t3t6qiw\n"
     ]
    },
    {
     "name": "stderr",
     "output_type": "stream",
     "text": [
      "/opt/conda/lib/python3.7/site-packages/setuptools/command/install.py:37: SetuptoolsDeprecationWarning: setup.py install is deprecated. Use build and pip and other standards-based tools.\n",
      "  setuptools.SetuptoolsDeprecationWarning,\n"
     ]
    }
   ],
   "source": [
    "import os\n",
    "\n",
    "PIPELINE_DEFINITION_FILE = PIPELINE_NAME + '_pipeline.json'\n",
    "\n",
    "runner = tfx.orchestration.experimental.KubeflowV2DagRunner(\n",
    "    config=tfx.orchestration.experimental.KubeflowV2DagRunnerConfig(),\n",
    "    output_filename=PIPELINE_DEFINITION_FILE)\n",
    "# Following function will write the pipeline definition to PIPELINE_DEFINITION_FILE.\n",
    "_ = runner.run(\n",
    "    _create_pipeline(\n",
    "        pipeline_name=PIPELINE_NAME,\n",
    "        pipeline_root=PIPELINE_ROOT,\n",
    "        data_root=DATA_ROOT,\n",
    "        module_file=os.path.join(MODULE_ROOT, _trainer_module_file),\n",
    "        endpoint_name=ENDPOINT_NAME,\n",
    "        project_id=GOOGLE_CLOUD_PROJECT,\n",
    "        region=GOOGLE_CLOUD_REGION,\n",
    "        use_gpu=False,\n",
    "        serving_model_dir=SERVING_MODEL_DIR))"
   ]
  },
  {
   "cell_type": "markdown",
   "metadata": {
    "id": "fWyITYSDd8w4"
   },
   "source": [
    "The generated definition file can be submitted using kfp client."
   ]
  },
  {
   "cell_type": "code",
   "execution_count": 17,
   "metadata": {},
   "outputs": [
    {
     "name": "stdout",
     "output_type": "stream",
     "text": [
      "Copying file://chicago-vertex-pipelines_pipeline.json [Content-Type=application/json]...\n",
      "/ [1 files][ 10.9 KiB/ 10.9 KiB]                                                \n",
      "Operation completed over 1 objects/10.9 KiB.                                     \n"
     ]
    }
   ],
   "source": [
    "!gsutil cp {PIPELINE_DEFINITION_FILE} {MODULE_ROOT}/"
   ]
  },
  {
   "cell_type": "code",
   "execution_count": 18,
   "metadata": {},
   "outputs": [],
   "source": [
    "PIPELINE_DEFINITION_FILE = 'gs://mle-project-linhvu2695001/pipeline_module/chicago-vertex-pipelines/chicago-vertex-pipelines_pipeline.json'"
   ]
  },
  {
   "cell_type": "markdown",
   "metadata": {},
   "source": [
    "### Main function to run Vertex AI Pipeline"
   ]
  },
  {
   "cell_type": "code",
   "execution_count": 19,
   "metadata": {
    "id": "tI71jlEvWMV7"
   },
   "outputs": [
    {
     "name": "stdout",
     "output_type": "stream",
     "text": [
      "Creating PipelineJob\n"
     ]
    },
    {
     "name": "stderr",
     "output_type": "stream",
     "text": [
      "INFO:google.cloud.aiplatform.pipeline_jobs:Creating PipelineJob\n"
     ]
    },
    {
     "name": "stdout",
     "output_type": "stream",
     "text": [
      "PipelineJob created. Resource name: projects/101560934952/locations/us-central1/pipelineJobs/chicago-vertex-pipelines-20220611160615\n"
     ]
    },
    {
     "name": "stderr",
     "output_type": "stream",
     "text": [
      "INFO:google.cloud.aiplatform.pipeline_jobs:PipelineJob created. Resource name: projects/101560934952/locations/us-central1/pipelineJobs/chicago-vertex-pipelines-20220611160615\n"
     ]
    },
    {
     "name": "stdout",
     "output_type": "stream",
     "text": [
      "To use this PipelineJob in another session:\n"
     ]
    },
    {
     "name": "stderr",
     "output_type": "stream",
     "text": [
      "INFO:google.cloud.aiplatform.pipeline_jobs:To use this PipelineJob in another session:\n"
     ]
    },
    {
     "name": "stdout",
     "output_type": "stream",
     "text": [
      "pipeline_job = aiplatform.PipelineJob.get('projects/101560934952/locations/us-central1/pipelineJobs/chicago-vertex-pipelines-20220611160615')\n"
     ]
    },
    {
     "name": "stderr",
     "output_type": "stream",
     "text": [
      "INFO:google.cloud.aiplatform.pipeline_jobs:pipeline_job = aiplatform.PipelineJob.get('projects/101560934952/locations/us-central1/pipelineJobs/chicago-vertex-pipelines-20220611160615')\n"
     ]
    },
    {
     "name": "stdout",
     "output_type": "stream",
     "text": [
      "View Pipeline Job:\n",
      "https://console.cloud.google.com/vertex-ai/locations/us-central1/pipelines/runs/chicago-vertex-pipelines-20220611160615?project=101560934952\n"
     ]
    },
    {
     "name": "stderr",
     "output_type": "stream",
     "text": [
      "INFO:google.cloud.aiplatform.pipeline_jobs:View Pipeline Job:\n",
      "https://console.cloud.google.com/vertex-ai/locations/us-central1/pipelines/runs/chicago-vertex-pipelines-20220611160615?project=101560934952\n"
     ]
    },
    {
     "name": "stdout",
     "output_type": "stream",
     "text": [
      "PipelineJob projects/101560934952/locations/us-central1/pipelineJobs/chicago-vertex-pipelines-20220611160615 current state:\n",
      "PipelineState.PIPELINE_STATE_RUNNING\n"
     ]
    },
    {
     "name": "stderr",
     "output_type": "stream",
     "text": [
      "INFO:google.cloud.aiplatform.pipeline_jobs:PipelineJob projects/101560934952/locations/us-central1/pipelineJobs/chicago-vertex-pipelines-20220611160615 current state:\n",
      "PipelineState.PIPELINE_STATE_RUNNING\n"
     ]
    },
    {
     "name": "stdout",
     "output_type": "stream",
     "text": [
      "PipelineJob projects/101560934952/locations/us-central1/pipelineJobs/chicago-vertex-pipelines-20220611160615 current state:\n",
      "PipelineState.PIPELINE_STATE_RUNNING\n"
     ]
    },
    {
     "name": "stderr",
     "output_type": "stream",
     "text": [
      "INFO:google.cloud.aiplatform.pipeline_jobs:PipelineJob projects/101560934952/locations/us-central1/pipelineJobs/chicago-vertex-pipelines-20220611160615 current state:\n",
      "PipelineState.PIPELINE_STATE_RUNNING\n"
     ]
    },
    {
     "name": "stdout",
     "output_type": "stream",
     "text": [
      "PipelineJob projects/101560934952/locations/us-central1/pipelineJobs/chicago-vertex-pipelines-20220611160615 current state:\n",
      "PipelineState.PIPELINE_STATE_RUNNING\n"
     ]
    },
    {
     "name": "stderr",
     "output_type": "stream",
     "text": [
      "INFO:google.cloud.aiplatform.pipeline_jobs:PipelineJob projects/101560934952/locations/us-central1/pipelineJobs/chicago-vertex-pipelines-20220611160615 current state:\n",
      "PipelineState.PIPELINE_STATE_RUNNING\n"
     ]
    },
    {
     "name": "stdout",
     "output_type": "stream",
     "text": [
      "PipelineJob projects/101560934952/locations/us-central1/pipelineJobs/chicago-vertex-pipelines-20220611160615 current state:\n",
      "PipelineState.PIPELINE_STATE_RUNNING\n"
     ]
    },
    {
     "name": "stderr",
     "output_type": "stream",
     "text": [
      "INFO:google.cloud.aiplatform.pipeline_jobs:PipelineJob projects/101560934952/locations/us-central1/pipelineJobs/chicago-vertex-pipelines-20220611160615 current state:\n",
      "PipelineState.PIPELINE_STATE_RUNNING\n"
     ]
    },
    {
     "name": "stdout",
     "output_type": "stream",
     "text": [
      "PipelineJob projects/101560934952/locations/us-central1/pipelineJobs/chicago-vertex-pipelines-20220611160615 current state:\n",
      "PipelineState.PIPELINE_STATE_RUNNING\n"
     ]
    },
    {
     "name": "stderr",
     "output_type": "stream",
     "text": [
      "INFO:google.cloud.aiplatform.pipeline_jobs:PipelineJob projects/101560934952/locations/us-central1/pipelineJobs/chicago-vertex-pipelines-20220611160615 current state:\n",
      "PipelineState.PIPELINE_STATE_RUNNING\n"
     ]
    },
    {
     "name": "stdout",
     "output_type": "stream",
     "text": [
      "PipelineJob projects/101560934952/locations/us-central1/pipelineJobs/chicago-vertex-pipelines-20220611160615 current state:\n",
      "PipelineState.PIPELINE_STATE_RUNNING\n"
     ]
    },
    {
     "name": "stderr",
     "output_type": "stream",
     "text": [
      "INFO:google.cloud.aiplatform.pipeline_jobs:PipelineJob projects/101560934952/locations/us-central1/pipelineJobs/chicago-vertex-pipelines-20220611160615 current state:\n",
      "PipelineState.PIPELINE_STATE_RUNNING\n"
     ]
    },
    {
     "name": "stdout",
     "output_type": "stream",
     "text": [
      "PipelineJob projects/101560934952/locations/us-central1/pipelineJobs/chicago-vertex-pipelines-20220611160615 current state:\n",
      "PipelineState.PIPELINE_STATE_RUNNING\n"
     ]
    },
    {
     "name": "stderr",
     "output_type": "stream",
     "text": [
      "INFO:google.cloud.aiplatform.pipeline_jobs:PipelineJob projects/101560934952/locations/us-central1/pipelineJobs/chicago-vertex-pipelines-20220611160615 current state:\n",
      "PipelineState.PIPELINE_STATE_RUNNING\n"
     ]
    },
    {
     "name": "stdout",
     "output_type": "stream",
     "text": [
      "PipelineJob projects/101560934952/locations/us-central1/pipelineJobs/chicago-vertex-pipelines-20220611160615 current state:\n",
      "PipelineState.PIPELINE_STATE_RUNNING\n"
     ]
    },
    {
     "name": "stderr",
     "output_type": "stream",
     "text": [
      "INFO:google.cloud.aiplatform.pipeline_jobs:PipelineJob projects/101560934952/locations/us-central1/pipelineJobs/chicago-vertex-pipelines-20220611160615 current state:\n",
      "PipelineState.PIPELINE_STATE_RUNNING\n"
     ]
    },
    {
     "name": "stdout",
     "output_type": "stream",
     "text": [
      "PipelineJob projects/101560934952/locations/us-central1/pipelineJobs/chicago-vertex-pipelines-20220611160615 current state:\n",
      "PipelineState.PIPELINE_STATE_RUNNING\n"
     ]
    },
    {
     "name": "stderr",
     "output_type": "stream",
     "text": [
      "INFO:google.cloud.aiplatform.pipeline_jobs:PipelineJob projects/101560934952/locations/us-central1/pipelineJobs/chicago-vertex-pipelines-20220611160615 current state:\n",
      "PipelineState.PIPELINE_STATE_RUNNING\n"
     ]
    },
    {
     "name": "stdout",
     "output_type": "stream",
     "text": [
      "PipelineJob projects/101560934952/locations/us-central1/pipelineJobs/chicago-vertex-pipelines-20220611160615 current state:\n",
      "PipelineState.PIPELINE_STATE_RUNNING\n"
     ]
    },
    {
     "name": "stderr",
     "output_type": "stream",
     "text": [
      "INFO:google.cloud.aiplatform.pipeline_jobs:PipelineJob projects/101560934952/locations/us-central1/pipelineJobs/chicago-vertex-pipelines-20220611160615 current state:\n",
      "PipelineState.PIPELINE_STATE_RUNNING\n"
     ]
    },
    {
     "name": "stdout",
     "output_type": "stream",
     "text": [
      "PipelineJob projects/101560934952/locations/us-central1/pipelineJobs/chicago-vertex-pipelines-20220611160615 current state:\n",
      "PipelineState.PIPELINE_STATE_RUNNING\n"
     ]
    },
    {
     "name": "stderr",
     "output_type": "stream",
     "text": [
      "INFO:google.cloud.aiplatform.pipeline_jobs:PipelineJob projects/101560934952/locations/us-central1/pipelineJobs/chicago-vertex-pipelines-20220611160615 current state:\n",
      "PipelineState.PIPELINE_STATE_RUNNING\n"
     ]
    },
    {
     "name": "stdout",
     "output_type": "stream",
     "text": [
      "PipelineJob projects/101560934952/locations/us-central1/pipelineJobs/chicago-vertex-pipelines-20220611160615 current state:\n",
      "PipelineState.PIPELINE_STATE_RUNNING\n"
     ]
    },
    {
     "name": "stderr",
     "output_type": "stream",
     "text": [
      "INFO:google.cloud.aiplatform.pipeline_jobs:PipelineJob projects/101560934952/locations/us-central1/pipelineJobs/chicago-vertex-pipelines-20220611160615 current state:\n",
      "PipelineState.PIPELINE_STATE_RUNNING\n"
     ]
    },
    {
     "name": "stdout",
     "output_type": "stream",
     "text": [
      "PipelineJob run completed. Resource name: projects/101560934952/locations/us-central1/pipelineJobs/chicago-vertex-pipelines-20220611160615\n"
     ]
    },
    {
     "name": "stderr",
     "output_type": "stream",
     "text": [
      "INFO:google.cloud.aiplatform.pipeline_jobs:PipelineJob run completed. Resource name: projects/101560934952/locations/us-central1/pipelineJobs/chicago-vertex-pipelines-20220611160615\n"
     ]
    }
   ],
   "source": [
    "# docs_infra: no_execute\n",
    "from google.cloud import aiplatform\n",
    "from google.cloud.aiplatform import pipeline_jobs\n",
    "\n",
    "aiplatform.init(project=GOOGLE_CLOUD_PROJECT, location=GOOGLE_CLOUD_REGION)\n",
    "\n",
    "job = pipeline_jobs.PipelineJob(template_path=PIPELINE_DEFINITION_FILE,\n",
    "                                display_name=PIPELINE_NAME)\n",
    "job.run(sync=False)"
   ]
  },
  {
   "cell_type": "markdown",
   "metadata": {},
   "source": [
    "## 4. Serving model"
   ]
  },
  {
   "cell_type": "markdown",
   "metadata": {},
   "source": [
    "### Get Endpoint"
   ]
  },
  {
   "cell_type": "code",
   "execution_count": 30,
   "metadata": {},
   "outputs": [],
   "source": [
    "endpoint_name  = aiplatform.Endpoint.list(\n",
    "    filter=f'display_name={ENDPOINT_NAME}', \n",
    "    order_by=\"update_time\")[-1].gca_resource.name\n",
    "\n",
    "endpoint = aiplatform.Endpoint(endpoint_name)"
   ]
  },
  {
   "cell_type": "code",
   "execution_count": 50,
   "metadata": {},
   "outputs": [
    {
     "data": {
      "text/plain": [
       "'4716843310507884544'"
      ]
     },
     "execution_count": 50,
     "metadata": {},
     "output_type": "execute_result"
    }
   ],
   "source": [
    "endpoint_name.split(\"/\")[-1]"
   ]
  },
  {
   "cell_type": "markdown",
   "metadata": {},
   "source": [
    "### Make Online Predictions"
   ]
  },
  {
   "cell_type": "code",
   "execution_count": 39,
   "metadata": {},
   "outputs": [],
   "source": [
    "test_instances = [  \n",
    "    {\n",
    "        \"pickup_latitude\": [41.899602111],\n",
    "        \"pickup_longitude\": [-87.633308037],\n",
    "        \"dropoff_latitude\": [41.96581197],\n",
    "        \"dropoff_longitude\": [-87.65587879],\n",
    "        \"euclidean\": [7595.27258846841]\n",
    "    }\n",
    "]"
   ]
  },
  {
   "cell_type": "code",
   "execution_count": 41,
   "metadata": {},
   "outputs": [
    {
     "name": "stdout",
     "output_type": "stream",
     "text": [
      "trip_total [20.1857433]\n"
     ]
    }
   ],
   "source": [
    "predictions = endpoint.predict(test_instances).predictions\n",
    "\n",
    "for prediction in predictions:\n",
    "    print(\"trip_total\", prediction)"
   ]
  },
  {
   "cell_type": "markdown",
   "metadata": {},
   "source": [
    "## 5. Model Monitoring\n",
    "Compose based on: https://github.com/GoogleCloudPlatform/mlops-with-vertex-ai/blob/main/08-model-monitoring.ipynb <br>\n",
    "**Progress**: set up and submit monitoring jobs (skew + drift) <br>\n",
    "**TODO**: simulate skewed prediction requests"
   ]
  },
  {
   "cell_type": "markdown",
   "metadata": {},
   "source": [
    "### Install dependencies"
   ]
  },
  {
   "cell_type": "code",
   "execution_count": 114,
   "metadata": {},
   "outputs": [],
   "source": [
    "import copy\n",
    "from google.protobuf.duration_pb2 import Duration\n",
    "from google.cloud.aiplatform_v1.types.io import GcsSource\n",
    "from google.cloud.aiplatform_v1.services.job_service import JobServiceClient\n",
    "from google.cloud.aiplatform_v1.types.model_monitoring import (ThresholdConfig, \n",
    "                                                               ModelMonitoringObjectiveConfig, \n",
    "                                                               SamplingStrategy, \n",
    "                                                               ModelMonitoringAlertConfig)\n",
    "from google.cloud.aiplatform_v1.types.model_deployment_monitoring_job import (ModelDeploymentMonitoringJob, \n",
    "                                                                              ModelDeploymentMonitoringScheduleConfig,\n",
    "                                                                              ModelDeploymentMonitoringObjectiveConfig)"
   ]
  },
  {
   "cell_type": "markdown",
   "metadata": {},
   "source": [
    "### Set configurations"
   ]
  },
  {
   "cell_type": "code",
   "execution_count": 126,
   "metadata": {},
   "outputs": [],
   "source": [
    "DATASET_DISPLAY_NAME = \"chicago-taxi-trip-2020-20k\"\n",
    "MONITORING_JOB_NAME = f\"monitor-{ENDPOINT_NAME}\"\n",
    "PARENT = f\"projects/{GOOGLE_CLOUD_PROJECT}/locations/{GOOGLE_CLOUD_REGION}\"\n",
    "\n",
    "LOG_SAMPLE_RATE = 0.8\n",
    "MONITOR_INTERVAL = 3600\n",
    "TARGET_FEATURE_NAME = 'trip_total'\n",
    "NOTIFY_EMAILS = [\"linhvu2695@gmail.com\"] # Change to your email address."
   ]
  },
  {
   "cell_type": "markdown",
   "metadata": {},
   "source": [
    "### Set Skew and Drift Threshold"
   ]
  },
  {
   "cell_type": "code",
   "execution_count": 43,
   "metadata": {},
   "outputs": [],
   "source": [
    "SKEW_THRESHOLDS = {\n",
    "    \"pickup_latitude\": 10,\n",
    "    \"pickup_longitude\": 10,\n",
    "    \"dropoff_latitude\": 10,\n",
    "    \"dropoff_longitude\": 10,\n",
    "    \"pickup_latitude\": 10\n",
    "}\n",
    "\n",
    "DRIFT_THRESHOLDS = {\n",
    "    \"pickup_latitude\": 10,\n",
    "    \"pickup_longitude\": 10,\n",
    "    \"dropoff_latitude\": 10,\n",
    "    \"dropoff_longitude\": 10,\n",
    "    \"euclidean\": 10\n",
    "}"
   ]
  },
  {
   "cell_type": "markdown",
   "metadata": {},
   "source": [
    "### Get model_ids & endpoint"
   ]
  },
  {
   "cell_type": "code",
   "execution_count": 44,
   "metadata": {},
   "outputs": [],
   "source": [
    "model_ids = [model.id for model in endpoint.list_models()]"
   ]
  },
  {
   "cell_type": "code",
   "execution_count": 121,
   "metadata": {},
   "outputs": [],
   "source": [
    "endpoint_name  = aiplatform.Endpoint.list(\n",
    "    filter=f'display_name={ENDPOINT_NAME}', \n",
    "    order_by=\"update_time\")[-1].gca_resource.name\n",
    "\n",
    "endpoint_uri = endpoint.gca_resource.name"
   ]
  },
  {
   "cell_type": "code",
   "execution_count": 122,
   "metadata": {},
   "outputs": [
    {
     "data": {
      "text/plain": [
       "'projects/101560934952/locations/us-central1/endpoints/4716843310507884544'"
      ]
     },
     "execution_count": 122,
     "metadata": {},
     "output_type": "execute_result"
    }
   ],
   "source": [
    "endpoint_uri"
   ]
  },
  {
   "cell_type": "markdown",
   "metadata": {},
   "source": [
    "### Retrieve the dataset"
   ]
  },
  {
   "cell_type": "code",
   "execution_count": 84,
   "metadata": {},
   "outputs": [],
   "source": [
    "dataset = aiplatform.TabularDataset.list(\n",
    "    filter=f\"display_name={DATASET_DISPLAY_NAME}\", \n",
    "    order_by=\"update_time\")[-1]\n",
    "\n",
    "gs_source_uri = dataset.gca_resource.metadata[\"inputConfig\"][\"gcsSource\"][\"uri\"]"
   ]
  },
  {
   "cell_type": "code",
   "execution_count": 124,
   "metadata": {},
   "outputs": [],
   "source": [
    "job_client = JobServiceClient(\n",
    "    client_options={\"api_endpoint\": f\"{GOOGLE_CLOUD_REGION}-aiplatform.googleapis.com\"}\n",
    ")"
   ]
  },
  {
   "cell_type": "markdown",
   "metadata": {},
   "source": [
    "### Configure the Monitoring Job"
   ]
  },
  {
   "cell_type": "code",
   "execution_count": 108,
   "metadata": {},
   "outputs": [],
   "source": [
    "skew_thresholds = {\n",
    "    feature: ThresholdConfig(value=float(value))\n",
    "    for feature, value in SKEW_THRESHOLDS.items()\n",
    "}\n",
    "\n",
    "drift_thresholds = {\n",
    "    feature: ThresholdConfig(value=float(value))\n",
    "    for feature, value in DRIFT_THRESHOLDS.items()\n",
    "}\n",
    "\n",
    "skew_config = ModelMonitoringObjectiveConfig.TrainingPredictionSkewDetectionConfig(\n",
    "    skew_thresholds=skew_thresholds\n",
    ")\n",
    "\n",
    "drift_config = ModelMonitoringObjectiveConfig.PredictionDriftDetectionConfig(\n",
    "    drift_thresholds=drift_thresholds\n",
    ")\n",
    "\n",
    "sampling_config = SamplingStrategy(\n",
    "    random_sample_config=SamplingStrategy.RandomSampleConfig(sample_rate=LOG_SAMPLE_RATE)\n",
    ")\n",
    "\n",
    "schedule_config = ModelDeploymentMonitoringScheduleConfig(\n",
    "    monitor_interval=Duration(seconds=MONITOR_INTERVAL)\n",
    ")\n",
    "\n",
    "training_dataset = ModelMonitoringObjectiveConfig.TrainingDataset(\n",
    "    target_field=TARGET_FEATURE_NAME,\n",
    "    gcs_source = GcsSource(uris=list(gs_source_uri))\n",
    ")\n",
    "\n",
    "objective_template = ModelDeploymentMonitoringObjectiveConfig(\n",
    "    objective_config=ModelMonitoringObjectiveConfig(\n",
    "        training_dataset=training_dataset,\n",
    "        training_prediction_skew_detection_config=skew_config,\n",
    "        prediction_drift_detection_config=drift_config,\n",
    "    )\n",
    ")"
   ]
  },
  {
   "cell_type": "code",
   "execution_count": 112,
   "metadata": {},
   "outputs": [],
   "source": [
    "deployment_objective_configs = []\n",
    "for model_id in model_ids:\n",
    "    objective_config = copy.deepcopy(objective_template)\n",
    "    objective_config.deployed_model_id = model_id\n",
    "    deployment_objective_configs.append(objective_config)\n",
    "\n",
    "alerting_config = ModelMonitoringAlertConfig(\n",
    "    email_alert_config=ModelMonitoringAlertConfig.EmailAlertConfig(\n",
    "        user_emails=NOTIFY_EMAILS\n",
    "    )\n",
    ")"
   ]
  },
  {
   "cell_type": "markdown",
   "metadata": {},
   "source": [
    "### Instantiate a Monitoring job"
   ]
  },
  {
   "cell_type": "code",
   "execution_count": 123,
   "metadata": {},
   "outputs": [],
   "source": [
    "job = ModelDeploymentMonitoringJob(\n",
    "    display_name=MONITORING_JOB_NAME,\n",
    "    endpoint=endpoint_uri,\n",
    "    model_deployment_monitoring_objective_configs=deployment_objective_configs,\n",
    "    logging_sampling_strategy=sampling_config,\n",
    "    model_deployment_monitoring_schedule_config=schedule_config,\n",
    "    model_monitoring_alert_config=alerting_config,\n",
    ")"
   ]
  },
  {
   "cell_type": "markdown",
   "metadata": {},
   "source": [
    "### Submit job for creation"
   ]
  },
  {
   "cell_type": "code",
   "execution_count": 127,
   "metadata": {},
   "outputs": [
    {
     "data": {
      "text/plain": [
       "name: \"projects/101560934952/locations/us-central1/modelDeploymentMonitoringJobs/6132706698705502208\"\n",
       "display_name: \"monitor-prediction-chicago-vertex-pipelines\"\n",
       "endpoint: \"projects/101560934952/locations/us-central1/endpoints/4716843310507884544\"\n",
       "state: JOB_STATE_PENDING\n",
       "schedule_state: OFFLINE\n",
       "model_deployment_monitoring_objective_configs {\n",
       "  deployed_model_id: \"4830396473378078720\"\n",
       "  objective_config {\n",
       "    training_dataset {\n",
       "      data_format: \"data-format-unspecified\"\n",
       "      gcs_source {\n",
       "        uris: \"gs://mle-project-linhvu2695001/data/chicago-taxi-trip-2020/2020_20k.csv\"\n",
       "      }\n",
       "      target_field: \"trip_total\"\n",
       "    }\n",
       "    training_prediction_skew_detection_config {\n",
       "      skew_thresholds {\n",
       "        key: \"dropoff_latitude\"\n",
       "        value {\n",
       "          value: 10.0\n",
       "        }\n",
       "      }\n",
       "      skew_thresholds {\n",
       "        key: \"dropoff_longitude\"\n",
       "        value {\n",
       "          value: 10.0\n",
       "        }\n",
       "      }\n",
       "      skew_thresholds {\n",
       "        key: \"pickup_latitude\"\n",
       "        value {\n",
       "          value: 10.0\n",
       "        }\n",
       "      }\n",
       "      skew_thresholds {\n",
       "        key: \"pickup_longitude\"\n",
       "        value {\n",
       "          value: 10.0\n",
       "        }\n",
       "      }\n",
       "    }\n",
       "    prediction_drift_detection_config {\n",
       "      drift_thresholds {\n",
       "        key: \"dropoff_latitude\"\n",
       "        value {\n",
       "          value: 10.0\n",
       "        }\n",
       "      }\n",
       "      drift_thresholds {\n",
       "        key: \"dropoff_longitude\"\n",
       "        value {\n",
       "          value: 10.0\n",
       "        }\n",
       "      }\n",
       "      drift_thresholds {\n",
       "        key: \"euclidean\"\n",
       "        value {\n",
       "          value: 10.0\n",
       "        }\n",
       "      }\n",
       "      drift_thresholds {\n",
       "        key: \"pickup_latitude\"\n",
       "        value {\n",
       "          value: 10.0\n",
       "        }\n",
       "      }\n",
       "      drift_thresholds {\n",
       "        key: \"pickup_longitude\"\n",
       "        value {\n",
       "          value: 10.0\n",
       "        }\n",
       "      }\n",
       "    }\n",
       "  }\n",
       "}\n",
       "model_deployment_monitoring_schedule_config {\n",
       "  monitor_interval {\n",
       "    seconds: 3600\n",
       "  }\n",
       "}\n",
       "logging_sampling_strategy {\n",
       "  random_sample_config {\n",
       "    sample_rate: 0.8\n",
       "  }\n",
       "}\n",
       "bigquery_tables {\n",
       "  log_source: SERVING\n",
       "  log_type: PREDICT\n",
       "  bigquery_table_path: \"bq://mle-project-linhvu2695001.model_deployment_monitoring_4716843310507884544.serving_predict\"\n",
       "}\n",
       "create_time {\n",
       "  seconds: 1654973544\n",
       "  nanos: 669524000\n",
       "}\n",
       "update_time {\n",
       "  seconds: 1654973544\n",
       "  nanos: 669524000\n",
       "}\n",
       "model_monitoring_alert_config {\n",
       "  email_alert_config {\n",
       "    user_emails: \"linhvu2695@gmail.com\"\n",
       "  }\n",
       "}\n",
       "log_ttl {\n",
       "}\n",
       "latest_monitoring_pipeline_metadata {\n",
       "  run_time {\n",
       "  }\n",
       "  status {\n",
       "  }\n",
       "}"
      ]
     },
     "execution_count": 127,
     "metadata": {},
     "output_type": "execute_result"
    }
   ],
   "source": [
    "response = job_client.create_model_deployment_monitoring_job(\n",
    "    parent=PARENT, model_deployment_monitoring_job=job\n",
    ")\n",
    "response"
   ]
  },
  {
   "cell_type": "markdown",
   "metadata": {},
   "source": [
    "### List Monitoring Jobs"
   ]
  },
  {
   "cell_type": "code",
   "execution_count": 136,
   "metadata": {},
   "outputs": [
    {
     "data": {
      "text/plain": [
       "name: \"projects/101560934952/locations/us-central1/modelDeploymentMonitoringJobs/6132706698705502208\"\n",
       "display_name: \"monitor-prediction-chicago-vertex-pipelines\"\n",
       "endpoint: \"projects/101560934952/locations/us-central1/endpoints/4716843310507884544\"\n",
       "state: JOB_STATE_PENDING\n",
       "schedule_state: OFFLINE\n",
       "model_deployment_monitoring_objective_configs {\n",
       "  deployed_model_id: \"4830396473378078720\"\n",
       "  objective_config {\n",
       "    training_dataset {\n",
       "      data_format: \"data-format-unspecified\"\n",
       "      gcs_source {\n",
       "        uris: \"gs://mle-project-linhvu2695001/data/chicago-taxi-trip-2020/2020_20k.csv\"\n",
       "      }\n",
       "      target_field: \"trip_total\"\n",
       "    }\n",
       "    training_prediction_skew_detection_config {\n",
       "      skew_thresholds {\n",
       "        key: \"dropoff_latitude\"\n",
       "        value {\n",
       "          value: 10.0\n",
       "        }\n",
       "      }\n",
       "      skew_thresholds {\n",
       "        key: \"dropoff_longitude\"\n",
       "        value {\n",
       "          value: 10.0\n",
       "        }\n",
       "      }\n",
       "      skew_thresholds {\n",
       "        key: \"pickup_latitude\"\n",
       "        value {\n",
       "          value: 10.0\n",
       "        }\n",
       "      }\n",
       "      skew_thresholds {\n",
       "        key: \"pickup_longitude\"\n",
       "        value {\n",
       "          value: 10.0\n",
       "        }\n",
       "      }\n",
       "    }\n",
       "    prediction_drift_detection_config {\n",
       "      drift_thresholds {\n",
       "        key: \"dropoff_latitude\"\n",
       "        value {\n",
       "          value: 10.0\n",
       "        }\n",
       "      }\n",
       "      drift_thresholds {\n",
       "        key: \"dropoff_longitude\"\n",
       "        value {\n",
       "          value: 10.0\n",
       "        }\n",
       "      }\n",
       "      drift_thresholds {\n",
       "        key: \"euclidean\"\n",
       "        value {\n",
       "          value: 10.0\n",
       "        }\n",
       "      }\n",
       "      drift_thresholds {\n",
       "        key: \"pickup_latitude\"\n",
       "        value {\n",
       "          value: 10.0\n",
       "        }\n",
       "      }\n",
       "      drift_thresholds {\n",
       "        key: \"pickup_longitude\"\n",
       "        value {\n",
       "          value: 10.0\n",
       "        }\n",
       "      }\n",
       "    }\n",
       "  }\n",
       "}\n",
       "model_deployment_monitoring_schedule_config {\n",
       "  monitor_interval {\n",
       "    seconds: 3600\n",
       "  }\n",
       "}\n",
       "logging_sampling_strategy {\n",
       "  random_sample_config {\n",
       "    sample_rate: 0.8\n",
       "  }\n",
       "}\n",
       "predict_instance_schema_uri: \"gs://cloud-ai-platform-398be6af-e849-454f-85a2-1e6e0e998d32/instance_schemas/job-6132706698705502208/predict\"\n",
       "bigquery_tables {\n",
       "  log_source: SERVING\n",
       "  log_type: PREDICT\n",
       "  bigquery_table_path: \"bq://mle-project-linhvu2695001.model_deployment_monitoring_4716843310507884544.serving_predict\"\n",
       "}\n",
       "create_time {\n",
       "  seconds: 1654973544\n",
       "  nanos: 669524000\n",
       "}\n",
       "update_time {\n",
       "  seconds: 1654973558\n",
       "  nanos: 898279000\n",
       "}\n",
       "model_monitoring_alert_config {\n",
       "  email_alert_config {\n",
       "    user_emails: \"linhvu2695@gmail.com\"\n",
       "  }\n",
       "}\n",
       "analysis_instance_schema_uri: \"gs://cloud-ai-platform-398be6af-e849-454f-85a2-1e6e0e998d32/instance_schemas/job-6132706698705502208/analysis\"\n",
       "log_ttl {\n",
       "}\n",
       "stats_anomalies_base_directory {\n",
       "  output_uri_prefix: \"gs://cloud-ai-platform-398be6af-e849-454f-85a2-1e6e0e998d32/model_monitoring/job-6132706698705502208\"\n",
       "}\n",
       "latest_monitoring_pipeline_metadata {\n",
       "  run_time {\n",
       "  }\n",
       "  status {\n",
       "  }\n",
       "}"
      ]
     },
     "execution_count": 136,
     "metadata": {},
     "output_type": "execute_result"
    }
   ],
   "source": [
    "monitoring_jobs = job_client.list_model_deployment_monitoring_jobs(parent=PARENT)\n",
    "monitoring_job = [entry for entry in monitoring_jobs if entry.display_name == MONITORING_JOB_NAME][0]\n",
    "monitoring_job"
   ]
  },
  {
   "cell_type": "code",
   "execution_count": 149,
   "metadata": {},
   "outputs": [
    {
     "data": {
      "text/plain": [
       "<JobState.JOB_STATE_PENDING: 2>"
      ]
     },
     "execution_count": 149,
     "metadata": {},
     "output_type": "execute_result"
    }
   ],
   "source": [
    "monitoring_job.state"
   ]
  },
  {
   "cell_type": "code",
   "execution_count": 150,
   "metadata": {},
   "outputs": [
    {
     "data": {
      "text/plain": [
       "'gs://cloud-ai-platform-398be6af-e849-454f-85a2-1e6e0e998d32/instance_schemas/job-6132706698705502208/predict'"
      ]
     },
     "execution_count": 150,
     "metadata": {},
     "output_type": "execute_result"
    }
   ],
   "source": [
    "monitoring_job.predict_instance_schema_uri"
   ]
  },
  {
   "cell_type": "markdown",
   "metadata": {},
   "source": [
    "### Pause/Delete Monitoring Job"
   ]
  },
  {
   "cell_type": "code",
   "execution_count": null,
   "metadata": {},
   "outputs": [],
   "source": [
    "#job_client.pause_model_deployment_monitoring_job(name=monitoring_job.name)"
   ]
  },
  {
   "cell_type": "code",
   "execution_count": null,
   "metadata": {},
   "outputs": [],
   "source": [
    "#job_client.delete_model_deployment_monitoring_job(name=monitoring_job.name)"
   ]
  }
 ],
 "metadata": {
  "colab": {
   "collapsed_sections": [
    "pknVo1kM2wI2"
   ],
   "name": "Simple TFX Pipeline for Vertex Pipelines",
   "provenance": [],
   "toc_visible": true
  },
  "environment": {
   "kernel": "python3",
   "name": "tf2-gpu.2-6.m93",
   "type": "gcloud",
   "uri": "gcr.io/deeplearning-platform-release/tf2-gpu.2-6:m93"
  },
  "kernelspec": {
   "display_name": "Python 3",
   "language": "python",
   "name": "python3"
  },
  "language_info": {
   "codemirror_mode": {
    "name": "ipython",
    "version": 3
   },
   "file_extension": ".py",
   "mimetype": "text/x-python",
   "name": "python",
   "nbconvert_exporter": "python",
   "pygments_lexer": "ipython3",
   "version": "3.7.12"
  }
 },
 "nbformat": 4,
 "nbformat_minor": 4
}